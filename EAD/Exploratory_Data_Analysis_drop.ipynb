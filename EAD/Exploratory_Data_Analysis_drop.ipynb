{
 "cells": [
  {
   "cell_type": "markdown",
   "metadata": {},
   "source": [
    "# AI Exploratory Data Analysis Red + White\n",
    "#### Exploratory Data Analysis\n",
    "\n",
    "1. The dataset provided is described below \n",
    "2. Use basic Python packages for numeric computing and visualization\n",
    "3. Obtain useful information regarding the dataset"
   ]
  },
  {
   "cell_type": "code",
   "execution_count": 23,
   "metadata": {},
   "outputs": [],
   "source": [
    "# Import required libraries\n",
    "import pandas as pd\n",
    "import numpy as np\n",
    "import sklearn\n",
    "import matplotlib.pyplot as plt\n",
    "import seaborn as sns"
   ]
  },
  {
   "cell_type": "code",
   "execution_count": 24,
   "metadata": {},
   "outputs": [],
   "source": [
    "# Read data from csv files\n",
    "dataRed = pd.read_csv(\"Data/winequality-red.csv\", delimiter = \";\")\n",
    "dataWhite = pd.read_csv(\"Data/winequality-white.csv\", delimiter = \";\")\n",
    "dataFull = pd.concat([dataRed, dataWhite])"
   ]
  },
  {
   "cell_type": "markdown",
   "metadata": {},
   "source": [
    "## Dataset information\n",
    "_Citation Request:_\n",
    "  This dataset is public available for research. The details are described in [Cortez et al., 2009]. \n",
    "\n",
    "  P. Cortez, A. Cerdeira, F. Almeida, T. Matos and J. Reis. \n",
    "  Modeling wine preferences by data mining from physicochemical properties.\n",
    "  In Decision Support Systems, Elsevier, 47(4):547-553. ISSN: 0167-9236.\n",
    "\n",
    "  Available at: [@Elsevier] http://dx.doi.org/10.1016/j.dss.2009.05.016\n",
    "                [Pre-press (pdf)] http://www3.dsi.uminho.pt/pcortez/winequality09.pdf\n",
    "                [bib] http://www3.dsi.uminho.pt/pcortez/dss09.bib\n",
    "\n",
    "1. Title: Wine Quality \n",
    "\n",
    "2. Sources\n",
    "   Created by: Paulo Cortez (Univ. Minho), Antonio Cerdeira, Fernando Almeida, Telmo Matos and Jose Reis (CVRVV) @ 2009\n",
    "   \n",
    "3. Past Usage:\n",
    "\n",
    "  P. Cortez, A. Cerdeira, F. Almeida, T. Matos and J. Reis. \n",
    "  Modeling wine preferences by data mining from physicochemical properties.\n",
    "  In Decision Support Systems, Elsevier, 47(4):547-553. ISSN: 0167-9236.\n",
    "\n",
    "  In the above reference, two datasets were created, using red and white wine samples.\n",
    "  The inputs include objective tests (e.g. PH values) and the output is based on sensory data\n",
    "  (median of at least 3 evaluations made by wine experts). Each expert graded the wine quality \n",
    "  between 0 (very bad) and 10 (very excellent). Several data mining methods were applied to model\n",
    "  these datasets under a regression approach. The support vector machine model achieved the\n",
    "  best results. Several metrics were computed: MAD, confusion matrix for a fixed error tolerance (T),\n",
    "  etc. Also, we plot the relative importances of the input variables (as measured by a sensitivity\n",
    "  analysis procedure).\n",
    " \n",
    "4. Relevant Information:\n",
    "\n",
    "   The two datasets are related to red and white variants of the Portuguese \"Vinho Verde\" wine.\n",
    "   For more details, consult: http://www.vinhoverde.pt/en/ or the reference [Cortez et al., 2009].\n",
    "   Due to privacy and logistic issues, only physicochemical (inputs) and sensory (the output) variables \n",
    "   are available (e.g. there is no data about grape types, wine brand, wine selling price, etc.).\n",
    "\n",
    "   These datasets can be viewed as classification or regression tasks.\n",
    "   The classes are ordered and not balanced (e.g. there are munch more normal wines than\n",
    "   excellent or poor ones). Outlier detection algorithms could be used to detect the few excellent\n",
    "   or poor wines. Also, we are not sure if all input variables are relevant. So\n",
    "   it could be interesting to test feature selection methods. \n",
    "\n",
    "5. Number of Instances: red wine - 1599; white wine - 4898. \n",
    "\n",
    "6. Number of Attributes: 11 + output attribute\n",
    "  \n",
    "   Note: several of the attributes may be correlated, thus it makes sense to apply some sort of\n",
    "   feature selection.\n",
    "\n",
    "7. Attribute information:\n",
    "\n",
    "   For more information, read [Cortez et al., 2009].\n",
    "\n",
    "   Input variables (based on physicochemical tests):\n",
    "   1 - fixed acidity\n",
    "   2 - volatile acidity\n",
    "   3 - citric acid\n",
    "   4 - residual sugar\n",
    "   5 - chlorides\n",
    "   6 - free sulfur dioxide\n",
    "   7 - total sulfur dioxide\n",
    "   8 - density\n",
    "   9 - pH\n",
    "   10 - sulphates\n",
    "   11 - alcohol\n",
    "   Output variable (based on sensory data): \n",
    "   12 - quality (score between 0 and 10)\n",
    "\n",
    "8. Missing Attribute Values: None\n"
   ]
  },
  {
   "cell_type": "code",
   "execution_count": 25,
   "metadata": {},
   "outputs": [
    {
     "name": "stdout",
     "output_type": "stream",
     "text": [
      "Data structure:\n",
      "\n",
      "   fixed acidity  volatile acidity  citric acid  residual sugar  chlorides  \\\n",
      "0            7.4              0.70         0.00             1.9      0.076   \n",
      "1            7.8              0.88         0.00             2.6      0.098   \n",
      "2            7.8              0.76         0.04             2.3      0.092   \n",
      "3           11.2              0.28         0.56             1.9      0.075   \n",
      "4            7.4              0.70         0.00             1.9      0.076   \n",
      "\n",
      "   free sulfur dioxide  total sulfur dioxide  density    pH  sulphates  \\\n",
      "0                 11.0                  34.0   0.9978  3.51       0.56   \n",
      "1                 25.0                  67.0   0.9968  3.20       0.68   \n",
      "2                 15.0                  54.0   0.9970  3.26       0.65   \n",
      "3                 17.0                  60.0   0.9980  3.16       0.58   \n",
      "4                 11.0                  34.0   0.9978  3.51       0.56   \n",
      "\n",
      "   alcohol  quality  \n",
      "0      9.4        5  \n",
      "1      9.8        5  \n",
      "2      9.8        5  \n",
      "3      9.8        6  \n",
      "4      9.4        5  \n",
      "\n",
      "\n",
      "Data types:\n",
      "\n",
      "fixed acidity           float64\n",
      "volatile acidity        float64\n",
      "citric acid             float64\n",
      "residual sugar          float64\n",
      "chlorides               float64\n",
      "free sulfur dioxide     float64\n",
      "total sulfur dioxide    float64\n",
      "density                 float64\n",
      "pH                      float64\n",
      "sulphates               float64\n",
      "alcohol                 float64\n",
      "quality                   int64\n",
      "dtype: object\n"
     ]
    }
   ],
   "source": [
    "# Get info about the dataset\n",
    "print(\"Data structure:\\n\\n\" + str(dataFull.head())+\"\\n\\n\")\n",
    "print(\"Data types:\\n\\n\" + str(dataFull.dtypes))"
   ]
  },
  {
   "cell_type": "code",
   "execution_count": 26,
   "metadata": {},
   "outputs": [
    {
     "name": "stdout",
     "output_type": "stream",
     "text": [
      "<class 'pandas.core.frame.DataFrame'>\n",
      "Int64Index: 6497 entries, 0 to 4897\n",
      "Data columns (total 12 columns):\n",
      " #   Column                Non-Null Count  Dtype  \n",
      "---  ------                --------------  -----  \n",
      " 0   fixed acidity         6497 non-null   float64\n",
      " 1   volatile acidity      6497 non-null   float64\n",
      " 2   citric acid           6497 non-null   float64\n",
      " 3   residual sugar        6497 non-null   float64\n",
      " 4   chlorides             6497 non-null   float64\n",
      " 5   free sulfur dioxide   6497 non-null   float64\n",
      " 6   total sulfur dioxide  6497 non-null   float64\n",
      " 7   density               6497 non-null   float64\n",
      " 8   pH                    6497 non-null   float64\n",
      " 9   sulphates             6497 non-null   float64\n",
      " 10  alcohol               6497 non-null   float64\n",
      " 11  quality               6497 non-null   int64  \n",
      "dtypes: float64(11), int64(1)\n",
      "memory usage: 659.9 KB\n"
     ]
    }
   ],
   "source": [
    "# Get info about the data columns\n",
    "dataFull.info()"
   ]
  },
  {
   "cell_type": "code",
   "execution_count": 27,
   "metadata": {},
   "outputs": [
    {
     "name": "stdout",
     "output_type": "stream",
     "text": [
      "ALCOHOL: \n",
      "9.500000     367\n",
      "9.400000     332\n",
      "9.200000     271\n",
      "10.000000    229\n",
      "10.500000    227\n",
      "            ... \n",
      "9.233333       1\n",
      "12.333333      1\n",
      "13.133333      1\n",
      "11.466667      1\n",
      "11.550000      1\n",
      "Name: alcohol, Length: 111, dtype: int64\n",
      "\n",
      "SULPHATES: \n",
      "0.50    276\n",
      "0.46    243\n",
      "0.54    235\n",
      "0.44    232\n",
      "0.38    214\n",
      "       ... \n",
      "1.59      1\n",
      "1.20      1\n",
      "1.34      1\n",
      "1.26      1\n",
      "1.09      1\n",
      "Name: sulphates, Length: 111, dtype: int64\n",
      "\n",
      "DENSITY: \n",
      "0.99720    69\n",
      "0.99760    69\n",
      "0.99800    64\n",
      "0.99200    64\n",
      "0.99280    63\n",
      "           ..\n",
      "0.99631     1\n",
      "1.00022     1\n",
      "1.00055     1\n",
      "0.99065     1\n",
      "0.99852     1\n",
      "Name: density, Length: 998, dtype: int64\n",
      "\n",
      "pH: \n",
      "3.16    200\n",
      "3.14    193\n",
      "3.22    185\n",
      "3.20    176\n",
      "3.15    170\n",
      "       ... \n",
      "2.82      1\n",
      "2.72      1\n",
      "2.77      1\n",
      "3.85      1\n",
      "3.81      1\n",
      "Name: pH, Length: 108, dtype: int64\n",
      "\n",
      "QUALITY: \n",
      "6    2836\n",
      "5    2138\n",
      "7    1079\n",
      "4     216\n",
      "8     193\n",
      "3      30\n",
      "9       5\n",
      "Name: quality, dtype: int64\n"
     ]
    }
   ],
   "source": [
    "# Get value counts from some specific columns\n",
    "print(\"ALCOHOL: \\n\", dataFull.alcohol.value_counts(),\"\\n\\n\",\n",
    "      \"SULPHATES: \\n\", dataFull.sulphates.value_counts(),\"\\n\\n\",\n",
    "      \"DENSITY: \\n\", dataFull.density.value_counts(),\"\\n\\n\",\n",
    "      \"pH: \\n\", dataFull.pH.value_counts(),\"\\n\\n\",\n",
    "      \"QUALITY: \\n\", dataFull.quality.value_counts(),\n",
    "     sep='')"
   ]
  },
  {
   "cell_type": "markdown",
   "metadata": {},
   "source": [
    "#### Let's take a closer look at the value distribution of the data"
   ]
  },
  {
   "cell_type": "code",
   "execution_count": 28,
   "metadata": {},
   "outputs": [
    {
     "data": {
      "text/html": [
       "<div>\n",
       "<style scoped>\n",
       "    .dataframe tbody tr th:only-of-type {\n",
       "        vertical-align: middle;\n",
       "    }\n",
       "\n",
       "    .dataframe tbody tr th {\n",
       "        vertical-align: top;\n",
       "    }\n",
       "\n",
       "    .dataframe thead th {\n",
       "        text-align: right;\n",
       "    }\n",
       "</style>\n",
       "<table border=\"1\" class=\"dataframe\">\n",
       "  <thead>\n",
       "    <tr style=\"text-align: right;\">\n",
       "      <th></th>\n",
       "      <th>fixed acidity</th>\n",
       "      <th>volatile acidity</th>\n",
       "      <th>citric acid</th>\n",
       "      <th>residual sugar</th>\n",
       "      <th>chlorides</th>\n",
       "      <th>free sulfur dioxide</th>\n",
       "      <th>total sulfur dioxide</th>\n",
       "      <th>density</th>\n",
       "      <th>pH</th>\n",
       "      <th>sulphates</th>\n",
       "      <th>alcohol</th>\n",
       "      <th>quality</th>\n",
       "    </tr>\n",
       "  </thead>\n",
       "  <tbody>\n",
       "    <tr>\n",
       "      <th>count</th>\n",
       "      <td>6497.000000</td>\n",
       "      <td>6497.000000</td>\n",
       "      <td>6497.000000</td>\n",
       "      <td>6497.000000</td>\n",
       "      <td>6497.000000</td>\n",
       "      <td>6497.000000</td>\n",
       "      <td>6497.000000</td>\n",
       "      <td>6497.000000</td>\n",
       "      <td>6497.000000</td>\n",
       "      <td>6497.000000</td>\n",
       "      <td>6497.000000</td>\n",
       "      <td>6497.000000</td>\n",
       "    </tr>\n",
       "    <tr>\n",
       "      <th>mean</th>\n",
       "      <td>7.215307</td>\n",
       "      <td>0.339666</td>\n",
       "      <td>0.318633</td>\n",
       "      <td>5.443235</td>\n",
       "      <td>0.056034</td>\n",
       "      <td>30.525319</td>\n",
       "      <td>115.744574</td>\n",
       "      <td>0.994697</td>\n",
       "      <td>3.218501</td>\n",
       "      <td>0.531268</td>\n",
       "      <td>10.491801</td>\n",
       "      <td>5.818378</td>\n",
       "    </tr>\n",
       "    <tr>\n",
       "      <th>std</th>\n",
       "      <td>1.296434</td>\n",
       "      <td>0.164636</td>\n",
       "      <td>0.145318</td>\n",
       "      <td>4.757804</td>\n",
       "      <td>0.035034</td>\n",
       "      <td>17.749400</td>\n",
       "      <td>56.521855</td>\n",
       "      <td>0.002999</td>\n",
       "      <td>0.160787</td>\n",
       "      <td>0.148806</td>\n",
       "      <td>1.192712</td>\n",
       "      <td>0.873255</td>\n",
       "    </tr>\n",
       "    <tr>\n",
       "      <th>min</th>\n",
       "      <td>3.800000</td>\n",
       "      <td>0.080000</td>\n",
       "      <td>0.000000</td>\n",
       "      <td>0.600000</td>\n",
       "      <td>0.009000</td>\n",
       "      <td>1.000000</td>\n",
       "      <td>6.000000</td>\n",
       "      <td>0.987110</td>\n",
       "      <td>2.720000</td>\n",
       "      <td>0.220000</td>\n",
       "      <td>8.000000</td>\n",
       "      <td>3.000000</td>\n",
       "    </tr>\n",
       "    <tr>\n",
       "      <th>25%</th>\n",
       "      <td>6.400000</td>\n",
       "      <td>0.230000</td>\n",
       "      <td>0.250000</td>\n",
       "      <td>1.800000</td>\n",
       "      <td>0.038000</td>\n",
       "      <td>17.000000</td>\n",
       "      <td>77.000000</td>\n",
       "      <td>0.992340</td>\n",
       "      <td>3.110000</td>\n",
       "      <td>0.430000</td>\n",
       "      <td>9.500000</td>\n",
       "      <td>5.000000</td>\n",
       "    </tr>\n",
       "    <tr>\n",
       "      <th>50%</th>\n",
       "      <td>7.000000</td>\n",
       "      <td>0.290000</td>\n",
       "      <td>0.310000</td>\n",
       "      <td>3.000000</td>\n",
       "      <td>0.047000</td>\n",
       "      <td>29.000000</td>\n",
       "      <td>118.000000</td>\n",
       "      <td>0.994890</td>\n",
       "      <td>3.210000</td>\n",
       "      <td>0.510000</td>\n",
       "      <td>10.300000</td>\n",
       "      <td>6.000000</td>\n",
       "    </tr>\n",
       "    <tr>\n",
       "      <th>75%</th>\n",
       "      <td>7.700000</td>\n",
       "      <td>0.400000</td>\n",
       "      <td>0.390000</td>\n",
       "      <td>8.100000</td>\n",
       "      <td>0.065000</td>\n",
       "      <td>41.000000</td>\n",
       "      <td>156.000000</td>\n",
       "      <td>0.996990</td>\n",
       "      <td>3.320000</td>\n",
       "      <td>0.600000</td>\n",
       "      <td>11.300000</td>\n",
       "      <td>6.000000</td>\n",
       "    </tr>\n",
       "    <tr>\n",
       "      <th>max</th>\n",
       "      <td>15.900000</td>\n",
       "      <td>1.580000</td>\n",
       "      <td>1.660000</td>\n",
       "      <td>65.800000</td>\n",
       "      <td>0.611000</td>\n",
       "      <td>289.000000</td>\n",
       "      <td>440.000000</td>\n",
       "      <td>1.038980</td>\n",
       "      <td>4.010000</td>\n",
       "      <td>2.000000</td>\n",
       "      <td>14.900000</td>\n",
       "      <td>9.000000</td>\n",
       "    </tr>\n",
       "  </tbody>\n",
       "</table>\n",
       "</div>"
      ],
      "text/plain": [
       "       fixed acidity  volatile acidity  citric acid  residual sugar  \\\n",
       "count    6497.000000       6497.000000  6497.000000     6497.000000   \n",
       "mean        7.215307          0.339666     0.318633        5.443235   \n",
       "std         1.296434          0.164636     0.145318        4.757804   \n",
       "min         3.800000          0.080000     0.000000        0.600000   \n",
       "25%         6.400000          0.230000     0.250000        1.800000   \n",
       "50%         7.000000          0.290000     0.310000        3.000000   \n",
       "75%         7.700000          0.400000     0.390000        8.100000   \n",
       "max        15.900000          1.580000     1.660000       65.800000   \n",
       "\n",
       "         chlorides  free sulfur dioxide  total sulfur dioxide      density  \\\n",
       "count  6497.000000          6497.000000           6497.000000  6497.000000   \n",
       "mean      0.056034            30.525319            115.744574     0.994697   \n",
       "std       0.035034            17.749400             56.521855     0.002999   \n",
       "min       0.009000             1.000000              6.000000     0.987110   \n",
       "25%       0.038000            17.000000             77.000000     0.992340   \n",
       "50%       0.047000            29.000000            118.000000     0.994890   \n",
       "75%       0.065000            41.000000            156.000000     0.996990   \n",
       "max       0.611000           289.000000            440.000000     1.038980   \n",
       "\n",
       "                pH    sulphates      alcohol      quality  \n",
       "count  6497.000000  6497.000000  6497.000000  6497.000000  \n",
       "mean      3.218501     0.531268    10.491801     5.818378  \n",
       "std       0.160787     0.148806     1.192712     0.873255  \n",
       "min       2.720000     0.220000     8.000000     3.000000  \n",
       "25%       3.110000     0.430000     9.500000     5.000000  \n",
       "50%       3.210000     0.510000    10.300000     6.000000  \n",
       "75%       3.320000     0.600000    11.300000     6.000000  \n",
       "max       4.010000     2.000000    14.900000     9.000000  "
      ]
     },
     "execution_count": 28,
     "metadata": {},
     "output_type": "execute_result"
    }
   ],
   "source": [
    "dataFull.describe()"
   ]
  },
  {
   "cell_type": "markdown",
   "metadata": {},
   "source": [
    "#### Let's check data correlation"
   ]
  },
  {
   "cell_type": "code",
   "execution_count": 29,
   "metadata": {},
   "outputs": [],
   "source": [
    "# dataFull.corr"
   ]
  },
  {
   "cell_type": "markdown",
   "metadata": {},
   "source": [
    "# Let's plot quality vs variables to see if we can identify any trend"
   ]
  },
  {
   "cell_type": "markdown",
   "metadata": {},
   "source": [
    "## Let's plot Full dataset, Red wine and White wine"
   ]
  },
  {
   "cell_type": "code",
   "execution_count": 30,
   "metadata": {},
   "outputs": [
    {
     "data": {
      "text/plain": [
       "<AxesSubplot:xlabel='quality', ylabel='volatile acidity'>"
      ]
     },
     "execution_count": 30,
     "metadata": {},
     "output_type": "execute_result"
    },
    {
     "data": {
      "image/png": "[encoded data removed]",
      "text/plain": [
       "<Figure size 432x288 with 6 Axes>"
      ]
     },
     "metadata": {
      "needs_background": "light"
     },
     "output_type": "display_data"
    }
   ],
   "source": [
    "fig, axes = plt.subplots(2, 3)\n",
    "\n",
    "sns.barplot(x = 'quality', y = 'fixed acidity', data = dataFull, ax = axes[0, 0])\n",
    "sns.barplot(x = 'quality', y = 'fixed acidity', data = dataRed, ax = axes[0, 1])\n",
    "sns.barplot(x = 'quality', y = 'fixed acidity', data = dataWhite, ax = axes[0, 2])\n",
    "sns.barplot(x = 'quality', y = 'volatile acidity', data = dataFull, ax = axes[1, 0])\n",
    "sns.barplot(x = 'quality', y = 'volatile acidity', data = dataRed, ax = axes[1, 1])\n",
    "sns.barplot(x = 'quality', y = 'volatile acidity', data = dataWhite, ax = axes[1, 2])\n"
   ]
  },
  {
   "cell_type": "code",
   "execution_count": 31,
   "metadata": {},
   "outputs": [
    {
     "data": {
      "text/plain": [
       "<AxesSubplot:xlabel='quality', ylabel='residual sugar'>"
      ]
     },
     "execution_count": 31,
     "metadata": {},
     "output_type": "execute_result"
    },
    {
     "data": {
      "image/png": "[encoded data removed]",
      "text/plain": [
       "<Figure size 432x288 with 6 Axes>"
      ]
     },
     "metadata": {
      "needs_background": "light"
     },
     "output_type": "display_data"
    }
   ],
   "source": [
    "fig, axes = plt.subplots(2, 3)\n",
    "\n",
    "sns.barplot(x = 'quality', y = 'citric acid', data = dataFull, ax = axes[0, 0])\n",
    "sns.barplot(x = 'quality', y = 'citric acid', data = dataRed, ax = axes[0, 1])\n",
    "sns.barplot(x = 'quality', y = 'citric acid', data = dataWhite, ax = axes[0, 2])\n",
    "sns.barplot(x = 'quality', y = 'residual sugar', data = dataFull, ax = axes[1, 0])\n",
    "sns.barplot(x = 'quality', y = 'residual sugar', data = dataRed, ax = axes[1, 1])\n",
    "sns.barplot(x = 'quality', y = 'residual sugar', data = dataWhite, ax = axes[1, 2])"
   ]
  },
  {
   "cell_type": "code",
   "execution_count": 32,
   "metadata": {},
   "outputs": [
    {
     "data": {
      "text/plain": [
       "<AxesSubplot:xlabel='quality', ylabel='density'>"
      ]
     },
     "execution_count": 32,
     "metadata": {},
     "output_type": "execute_result"
    },
    {
     "data": {
      "image/png": "[encoded data removed]",
      "text/plain": [
       "<Figure size 432x288 with 6 Axes>"
      ]
     },
     "metadata": {
      "needs_background": "light"
     },
     "output_type": "display_data"
    }
   ],
   "source": [
    "fig, axes = plt.subplots(2, 3)\n",
    "\n",
    "sns.barplot(x = 'quality', y = 'chlorides', data = dataFull, ax = axes[0, 0])\n",
    "sns.barplot(x = 'quality', y = 'chlorides', data = dataRed, ax = axes[0, 1])\n",
    "sns.barplot(x = 'quality', y = 'chlorides', data = dataWhite, ax = axes[0, 2])\n",
    "sns.barplot(x = 'quality', y = 'density', data = dataFull, ax = axes[1, 0])\n",
    "sns.barplot(x = 'quality', y = 'density', data = dataRed, ax = axes[1, 1])\n",
    "sns.barplot(x = 'quality', y = 'density', data = dataWhite, ax = axes[1, 2])"
   ]
  },
  {
   "cell_type": "code",
   "execution_count": 33,
   "metadata": {},
   "outputs": [
    {
     "data": {
      "text/plain": [
       "<AxesSubplot:xlabel='quality', ylabel='total sulfur dioxide'>"
      ]
     },
     "execution_count": 33,
     "metadata": {},
     "output_type": "execute_result"
    },
    {
     "data": {
      "image/png": "[encoded data removed]",
      "text/plain": [
       "<Figure size 432x288 with 6 Axes>"
      ]
     },
     "metadata": {
      "needs_background": "light"
     },
     "output_type": "display_data"
    }
   ],
   "source": [
    "fig, axes = plt.subplots(2, 3)\n",
    "\n",
    "sns.barplot(x = 'quality', y = 'free sulfur dioxide', data = dataFull, ax = axes[0, 0])\n",
    "sns.barplot(x = 'quality', y = 'free sulfur dioxide', data = dataRed, ax = axes[0, 1])\n",
    "sns.barplot(x = 'quality', y = 'free sulfur dioxide', data = dataWhite, ax = axes[0, 2])\n",
    "sns.barplot(x = 'quality', y = 'total sulfur dioxide', data = dataFull, ax = axes[1, 0])\n",
    "sns.barplot(x = 'quality', y = 'total sulfur dioxide', data = dataRed, ax = axes[1, 1])\n",
    "sns.barplot(x = 'quality', y = 'total sulfur dioxide', data = dataWhite, ax = axes[1, 2])"
   ]
  },
  {
   "cell_type": "code",
   "execution_count": 34,
   "metadata": {},
   "outputs": [
    {
     "data": {
      "text/plain": [
       "<AxesSubplot:xlabel='quality', ylabel='sulphates'>"
      ]
     },
     "execution_count": 34,
     "metadata": {},
     "output_type": "execute_result"
    },
    {
     "data": {
      "image/png": "[encoded data removed]",
      "text/plain": [
       "<Figure size 432x288 with 6 Axes>"
      ]
     },
     "metadata": {
      "needs_background": "light"
     },
     "output_type": "display_data"
    }
   ],
   "source": [
    "fig, axes = plt.subplots(2, 3)\n",
    "\n",
    "sns.barplot(x = 'quality', y = 'pH', data = dataFull, ax = axes[0, 0])\n",
    "sns.barplot(x = 'quality', y = 'pH', data = dataRed, ax = axes[0, 1])\n",
    "sns.barplot(x = 'quality', y = 'pH', data = dataWhite, ax = axes[0, 2])\n",
    "sns.barplot(x = 'quality', y = 'sulphates', data = dataFull, ax = axes[1, 0])\n",
    "sns.barplot(x = 'quality', y = 'sulphates', data = dataRed, ax = axes[1, 1])\n",
    "sns.barplot(x = 'quality', y = 'sulphates', data = dataWhite, ax = axes[1, 2])"
   ]
  },
  {
   "cell_type": "code",
   "execution_count": 35,
   "metadata": {},
   "outputs": [
    {
     "data": {
      "text/plain": [
       "<AxesSubplot:xlabel='quality', ylabel='alcohol'>"
      ]
     },
     "execution_count": 35,
     "metadata": {},
     "output_type": "execute_result"
    },
    {
     "data": {
      "image/png": "[encoded data removed]",
      "text/plain": [
       "<Figure size 432x288 with 3 Axes>"
      ]
     },
     "metadata": {
      "needs_background": "light"
     },
     "output_type": "display_data"
    }
   ],
   "source": [
    "fig, axes = plt.subplots(1, 3)\n",
    "\n",
    "sns.barplot(x = 'quality', y = 'alcohol', data = dataFull, ax = axes[0])\n",
    "sns.barplot(x = 'quality', y = 'alcohol', data = dataRed, ax = axes[1])\n",
    "sns.barplot(x = 'quality', y = 'alcohol', data = dataWhite, ax = axes[2])"
   ]
  },
  {
   "cell_type": "markdown",
   "metadata": {},
   "source": [
    "#### We can see that for the full dataset, quality improves when:\n",
    "- volatile acidity goes down (specially in Red wine)\n",
    "- citric acid goes higher (specially in Red wine)\n",
    "- chlorides go down\n",
    "- sulfates go up (only in Red wine)\n",
    "- alcohol goes up"
   ]
  },
  {
   "cell_type": "markdown",
   "metadata": {},
   "source": [
    "###### We can examine the distribution of each column in the data using pandas crosstab"
   ]
  },
  {
   "cell_type": "code",
   "execution_count": 36,
   "metadata": {},
   "outputs": [],
   "source": [
    "quality = pd.crosstab(index= dataRed[\"quality\"],columns='count')"
   ]
  },
  {
   "cell_type": "code",
   "execution_count": 37,
   "metadata": {},
   "outputs": [
    {
     "name": "stdout",
     "output_type": "stream",
     "text": [
      "col_0    count\n",
      "quality       \n",
      "3           10\n",
      "4           53\n",
      "5          681\n",
      "6          638\n",
      "7          199\n",
      "8           18\n"
     ]
    }
   ],
   "source": [
    "print(quality)"
   ]
  },
  {
   "cell_type": "markdown",
   "metadata": {},
   "source": [
    "###### Now let's visualize what we obtained"
   ]
  },
  {
   "cell_type": "code",
   "execution_count": 38,
   "metadata": {},
   "outputs": [
    {
     "data": {
      "text/plain": [
       "<Figure size 4608x2304 with 0 Axes>"
      ]
     },
     "metadata": {},
     "output_type": "display_data"
    },
    {
     "data": {
      "image/png": "[encoded data removed]",
      "text/plain": [
       "<Figure size 432x288 with 1 Axes>"
      ]
     },
     "metadata": {
      "needs_background": "light"
     },
     "output_type": "display_data"
    }
   ],
   "source": [
    "fig = plt.figure(figsize=(64,32))\n",
    "quality.plot(kind=\"bar\", title =\"Quality\", stacked=False)\n",
    "plt.show()"
   ]
  },
  {
   "cell_type": "markdown",
   "metadata": {},
   "source": [
    "## Preprocessing Data for performing Machine learning algorithms"
   ]
  },
  {
   "cell_type": "code",
   "execution_count": 39,
   "metadata": {},
   "outputs": [],
   "source": [
    "from sklearn.ensemble import RandomForestClassifier\n",
    "from sklearn.svm import SVC\n",
    "from sklearn.linear_model import SGDClassifier\n",
    "from sklearn.metrics import confusion_matrix, classification_report\n",
    "from sklearn.preprocessing import StandardScaler, LabelEncoder\n",
    "from sklearn.model_selection import train_test_split, GridSearchCV, cross_val_score"
   ]
  },
  {
   "cell_type": "code",
   "execution_count": 40,
   "metadata": {},
   "outputs": [],
   "source": [
    "# Making binary classificaion for the response variable.\n",
    "# Dividing wine as good and bad by giving the limit for the quality\n",
    "bins = (2, 6.5, 9.5)\n",
    "group_names = ['bad', 'good']\n",
    "# calidad = dataFull['quality']\n",
    "dataFull['quality'] = pd.cut(dataFull['quality'], bins = bins, labels = group_names)\n",
    "dataRed['quality'] = pd.cut(dataRed['quality'], bins = bins, labels = group_names)\n",
    "dataWhite['quality'] = pd.cut(dataWhite['quality'], bins = bins, labels = group_names)"
   ]
  },
  {
   "cell_type": "code",
   "execution_count": 41,
   "metadata": {},
   "outputs": [],
   "source": [
    "# Now lets assign labels to our quality variable\n",
    "label_quality = LabelEncoder()"
   ]
  },
  {
   "cell_type": "code",
   "execution_count": 42,
   "metadata": {},
   "outputs": [],
   "source": [
    "# Bad becomes 0 and good becomes 1 \n",
    "# dataFull['quality'] = label_quality.fit_transform(dataFull['quality'])\n",
    "dataFull['quality'] = label_quality.fit_transform(dataFull['quality'])\n",
    "dataRed['quality'] = label_quality.fit_transform(dataRed['quality'])\n",
    "dataWhite['quality'] = label_quality.fit_transform(dataWhite['quality'])"
   ]
  },
  {
   "cell_type": "code",
   "execution_count": 43,
   "metadata": {},
   "outputs": [
    {
     "name": "stdout",
     "output_type": "stream",
     "text": [
      "Full dataset: \n",
      " 0    5220\n",
      "1    1277\n",
      "Name: quality, dtype: int64\n",
      "Red wine: \n",
      " 0    1382\n",
      "1     217\n",
      "Name: quality, dtype: int64\n",
      "White wine: \n",
      " 0    3838\n",
      "1    1060\n",
      "Name: quality, dtype: int64\n"
     ]
    }
   ],
   "source": [
    "print('Full dataset: \\n', dataFull['quality'].value_counts())\n",
    "print('Red wine: \\n', dataRed['quality'].value_counts())\n",
    "print('White wine: \\n', dataWhite['quality'].value_counts())"
   ]
  },
  {
   "cell_type": "code",
   "execution_count": 44,
   "metadata": {},
   "outputs": [
    {
     "name": "stderr",
     "output_type": "stream",
     "text": [
      "C:\\ProgramData\\Anaconda3\\lib\\site-packages\\seaborn\\_decorators.py:36: FutureWarning: Pass the following variable as a keyword arg: x. From version 0.12, the only valid positional argument will be `data`, and passing other arguments without an explicit keyword will result in an error or misinterpretation.\n",
      "  warnings.warn(\n",
      "C:\\ProgramData\\Anaconda3\\lib\\site-packages\\seaborn\\_decorators.py:36: FutureWarning: Pass the following variable as a keyword arg: x. From version 0.12, the only valid positional argument will be `data`, and passing other arguments without an explicit keyword will result in an error or misinterpretation.\n",
      "  warnings.warn(\n",
      "C:\\ProgramData\\Anaconda3\\lib\\site-packages\\seaborn\\_decorators.py:36: FutureWarning: Pass the following variable as a keyword arg: x. From version 0.12, the only valid positional argument will be `data`, and passing other arguments without an explicit keyword will result in an error or misinterpretation.\n",
      "  warnings.warn(\n"
     ]
    },
    {
     "data": {
      "text/plain": [
       "<AxesSubplot:xlabel='quality', ylabel='count'>"
      ]
     },
     "execution_count": 44,
     "metadata": {},
     "output_type": "execute_result"
    },
    {
     "data": {
      "image/png": "[encoded data removed]",
      "text/plain": [
       "<Figure size 432x288 with 3 Axes>"
      ]
     },
     "metadata": {
      "needs_background": "light"
     },
     "output_type": "display_data"
    }
   ],
   "source": [
    "# sns.countplot(dataFull['quality'])\n",
    "\n",
    "fig, axes = plt.subplots(1, 3)\n",
    "\n",
    "sns.countplot(dataFull['quality'], ax = axes[0])\n",
    "sns.countplot(dataRed['quality'], ax = axes[1])\n",
    "sns.countplot(dataWhite['quality'], ax = axes[2])"
   ]
  },
  {
   "cell_type": "code",
   "execution_count": 45,
   "metadata": {},
   "outputs": [],
   "source": [
    "# Let's separate data set as features and response\n",
    "yFull = dataFull['quality']\n",
    "xFull = dataFull.drop('quality', axis = 1)\n",
    "\n",
    "xFull = xFull.drop('density', axis = 1)\n",
    "xFull = xFull.drop('pH', axis = 1)\n",
    "\n",
    "yRed = dataRed['quality']\n",
    "xRed = dataRed.drop('quality', axis = 1)\n",
    "\n",
    "xRed = xRed.drop('density', axis = 1)\n",
    "xRed = xRed.drop('pH', axis = 1)\n",
    "\n",
    "yWhite = dataWhite['quality']\n",
    "xWhite = dataWhite.drop('quality', axis = 1)\n",
    "\n",
    "xWhite = xWhite.drop('density', axis = 1)\n",
    "xWhite = xWhite.drop('pH', axis = 1)"
   ]
  },
  {
   "cell_type": "code",
   "execution_count": 47,
   "metadata": {},
   "outputs": [],
   "source": [
    "# Splitting data set into Train and Test (20% data for test) \n",
    "xF_train, xF_test, yF_train, yF_test = train_test_split(xFull, yFull, \n",
    "                                                        test_size = 0.2, random_state = 42)\n",
    "xR_train, xR_test, yR_train, yR_test = train_test_split(xRed, yRed, \n",
    "                                                        test_size = 0.2, random_state = 42)\n",
    "xW_train, xW_test, yW_train, yW_test = train_test_split(xWhite, yWhite, \n",
    "                                                        test_size = 0.2, random_state = 42)"
   ]
  },
  {
   "cell_type": "code",
   "execution_count": 48,
   "metadata": {},
   "outputs": [],
   "source": [
    "# Scaling info for better results\n",
    "sc = StandardScaler()"
   ]
  },
  {
   "cell_type": "code",
   "execution_count": 49,
   "metadata": {},
   "outputs": [],
   "source": [
    "xF_train = sc.fit_transform(xF_train)\n",
    "xF_test = sc.fit_transform(xF_test)\n",
    "\n",
    "xR_train = sc.fit_transform(xR_train)\n",
    "xR_test = sc.fit_transform(xR_test)\n",
    "\n",
    "xW_train = sc.fit_transform(xW_train)\n",
    "xW_test = sc.fit_transform(xW_test)"
   ]
  },
  {
   "cell_type": "markdown",
   "metadata": {},
   "source": [
    "#### Now our data is ready for ML"
   ]
  },
  {
   "cell_type": "markdown",
   "metadata": {},
   "source": [
    "## Random Forest Classifier"
   ]
  },
  {
   "cell_type": "code",
   "execution_count": 50,
   "metadata": {},
   "outputs": [],
   "source": [
    "# Full dataset\n",
    "rfc_Full = RandomForestClassifier(n_estimators=200)\n",
    "rfc_Full.fit(xF_train, yF_train)\n",
    "pred_rfc_Full = rfc_Full.predict(xF_test)"
   ]
  },
  {
   "cell_type": "code",
   "execution_count": 51,
   "metadata": {},
   "outputs": [],
   "source": [
    "# Red wine dataset\n",
    "rfc_Red = RandomForestClassifier(n_estimators=200)\n",
    "rfc_Red.fit(xR_train, yR_train)\n",
    "pred_rfc_Red = rfc_Red.predict(xR_test)"
   ]
  },
  {
   "cell_type": "code",
   "execution_count": 52,
   "metadata": {},
   "outputs": [],
   "source": [
    "# White wine dataset\n",
    "rfc_White = RandomForestClassifier(n_estimators=200)\n",
    "rfc_White.fit(xW_train, yW_train)\n",
    "pred_rfc_White = rfc_White.predict(xW_test)"
   ]
  },
  {
   "cell_type": "code",
   "execution_count": 53,
   "metadata": {},
   "outputs": [
    {
     "name": "stdout",
     "output_type": "stream",
     "text": [
      "\n",
      "\n",
      "Full dataset\n",
      "              precision    recall  f1-score   support\n",
      "\n",
      "           0       0.89      0.97      0.93      1048\n",
      "           1       0.81      0.50      0.62       252\n",
      "\n",
      "    accuracy                           0.88      1300\n",
      "   macro avg       0.85      0.74      0.77      1300\n",
      "weighted avg       0.87      0.88      0.87      1300\n",
      "\n",
      "\n",
      "\n",
      "Red wine\n",
      "              precision    recall  f1-score   support\n",
      "\n",
      "           0       0.91      0.97      0.94       273\n",
      "           1       0.74      0.43      0.54        47\n",
      "\n",
      "    accuracy                           0.89       320\n",
      "   macro avg       0.82      0.70      0.74       320\n",
      "weighted avg       0.88      0.89      0.88       320\n",
      "\n",
      "\n",
      "\n",
      "White wine\n",
      "              precision    recall  f1-score   support\n",
      "\n",
      "           0       0.88      0.96      0.92       753\n",
      "           1       0.81      0.59      0.68       227\n",
      "\n",
      "    accuracy                           0.87       980\n",
      "   macro avg       0.85      0.77      0.80       980\n",
      "weighted avg       0.87      0.87      0.86       980\n",
      "\n"
     ]
    }
   ],
   "source": [
    "# Let's check our prediction with real quality\n",
    "\n",
    "print('\\n\\nFull dataset')\n",
    "print(classification_report(yF_test, pred_rfc_Full))\n",
    "\n",
    "print('\\n\\nRed wine')\n",
    "print(classification_report(yR_test, pred_rfc_Red))\n",
    "\n",
    "print('\\n\\nWhite wine')\n",
    "print(classification_report(yW_test, pred_rfc_White))"
   ]
  },
  {
   "cell_type": "markdown",
   "metadata": {},
   "source": [
    "#### We see that RF precision is 87%, but it works better for white wines, and for bad quality wines in general. Maybe it's because we have much more 'bad' wines and therefore training worked better"
   ]
  },
  {
   "cell_type": "code",
   "execution_count": 54,
   "metadata": {},
   "outputs": [
    {
     "name": "stdout",
     "output_type": "stream",
     "text": [
      "\n",
      "\n",
      "Full dataset:\n",
      "[[1018   30]\n",
      " [ 126  126]]\n",
      "\n",
      "\n",
      "Red wine:\n",
      "[[266   7]\n",
      " [ 27  20]]\n",
      "\n",
      "\n",
      "White wine:\n",
      "[[722  31]\n",
      " [ 94 133]]\n"
     ]
    }
   ],
   "source": [
    "#Confusion matrix for the random forest classification\n",
    "print('\\n\\nFull dataset:')\n",
    "print(confusion_matrix(yF_test, pred_rfc_Full))\n",
    "\n",
    "print('\\n\\nRed wine:')\n",
    "print(confusion_matrix(yR_test, pred_rfc_Red))\n",
    "\n",
    "print('\\n\\nWhite wine:')\n",
    "print(confusion_matrix(yW_test, pred_rfc_White))"
   ]
  },
  {
   "cell_type": "markdown",
   "metadata": {},
   "source": [
    "## Stochastic Gradient Descent Classifier"
   ]
  },
  {
   "cell_type": "code",
   "execution_count": 55,
   "metadata": {},
   "outputs": [],
   "source": [
    "sgd_Full = SGDClassifier(penalty=None)\n",
    "sgd_Full.fit(xF_train, yF_train)\n",
    "pred_sgd_Full = sgd_Full.predict(xF_test)\n",
    "\n",
    "sgd_Red = SGDClassifier(penalty=None)\n",
    "sgd_Red.fit(xR_train, yR_train)\n",
    "pred_sgd_Red = sgd_Red.predict(xR_test)\n",
    "\n",
    "sgd_White = SGDClassifier(penalty=None)\n",
    "sgd_White.fit(xW_train, yW_train)\n",
    "pred_sgd_White = sgd_White.predict(xW_test)"
   ]
  },
  {
   "cell_type": "code",
   "execution_count": 56,
   "metadata": {},
   "outputs": [
    {
     "name": "stdout",
     "output_type": "stream",
     "text": [
      "\n",
      "\n",
      "Full Dataset:\n",
      "              precision    recall  f1-score   support\n",
      "\n",
      "           0       0.83      0.98      0.90      1048\n",
      "           1       0.66      0.19      0.30       252\n",
      "\n",
      "    accuracy                           0.82      1300\n",
      "   macro avg       0.75      0.58      0.60      1300\n",
      "weighted avg       0.80      0.82      0.78      1300\n",
      "\n",
      "\n",
      "\n",
      "Red wine:\n",
      "              precision    recall  f1-score   support\n",
      "\n",
      "           0       0.86      0.99      0.92       273\n",
      "           1       0.57      0.09      0.15        47\n",
      "\n",
      "    accuracy                           0.86       320\n",
      "   macro avg       0.72      0.54      0.53       320\n",
      "weighted avg       0.82      0.86      0.81       320\n",
      "\n",
      "\n",
      "\n",
      "White wine:\n",
      "              precision    recall  f1-score   support\n",
      "\n",
      "           0       0.82      0.93      0.87       753\n",
      "           1       0.56      0.30      0.39       227\n",
      "\n",
      "    accuracy                           0.78       980\n",
      "   macro avg       0.69      0.62      0.63       980\n",
      "weighted avg       0.76      0.78      0.76       980\n",
      "\n"
     ]
    }
   ],
   "source": [
    "print('\\n\\nFull Dataset:')\n",
    "print(classification_report(yF_test, pred_sgd_Full))\n",
    "\n",
    "print('\\n\\nRed wine:')\n",
    "print(classification_report(yR_test, pred_sgd_Red))\n",
    "\n",
    "print('\\n\\nWhite wine:')\n",
    "print(classification_report(yW_test, pred_sgd_White))"
   ]
  },
  {
   "cell_type": "code",
   "execution_count": 57,
   "metadata": {},
   "outputs": [
    {
     "name": "stdout",
     "output_type": "stream",
     "text": [
      "\n",
      "\n",
      "Full dataset:\n",
      "[[1023   25]\n",
      " [ 204   48]]\n",
      "\n",
      "\n",
      "Red wine:\n",
      "[[270   3]\n",
      " [ 43   4]]\n",
      "\n",
      "\n",
      "White wine:\n",
      "[[698  55]\n",
      " [158  69]]\n"
     ]
    }
   ],
   "source": [
    "# Confusion matric for stochastic gradient descent\n",
    "\n",
    "print('\\n\\nFull dataset:')\n",
    "print(confusion_matrix(yF_test, pred_sgd_Full))\n",
    "\n",
    "print('\\n\\nRed wine:')\n",
    "print(confusion_matrix(yR_test, pred_sgd_Red))\n",
    "\n",
    "print('\\n\\nWhite wine:')\n",
    "print(confusion_matrix(yW_test, pred_sgd_White))"
   ]
  },
  {
   "cell_type": "markdown",
   "metadata": {},
   "source": [
    "#### Again results for 'good' wines are really worse than for 'bad' wine. The Random Forest provided better results"
   ]
  },
  {
   "cell_type": "markdown",
   "metadata": {},
   "source": [
    "## Support Vector Classifier"
   ]
  },
  {
   "cell_type": "code",
   "execution_count": 58,
   "metadata": {},
   "outputs": [],
   "source": [
    "svc_Full = SVC()\n",
    "svc_Full.fit(xF_train, yF_train)\n",
    "pred_svc_Full = svc_Full.predict(xF_test)\n",
    "\n",
    "svc_Red = SVC()\n",
    "svc_Red.fit(xR_train, yR_train)\n",
    "pred_svc_Red = svc_Red.predict(xR_test)\n",
    "\n",
    "svc_White = SVC()\n",
    "svc_White.fit(xW_train, yW_train)\n",
    "pred_svc_White = svc_White.predict(xW_test)"
   ]
  },
  {
   "cell_type": "code",
   "execution_count": 59,
   "metadata": {},
   "outputs": [
    {
     "name": "stdout",
     "output_type": "stream",
     "text": [
      "\n",
      "\n",
      "Full dataset:\n",
      "              precision    recall  f1-score   support\n",
      "\n",
      "           0       0.84      0.98      0.91      1048\n",
      "           1       0.73      0.25      0.37       252\n",
      "\n",
      "    accuracy                           0.84      1300\n",
      "   macro avg       0.79      0.61      0.64      1300\n",
      "weighted avg       0.82      0.84      0.80      1300\n",
      "\n",
      "\n",
      "\n",
      "Red wine:\n",
      "              precision    recall  f1-score   support\n",
      "\n",
      "           0       0.88      0.99      0.93       273\n",
      "           1       0.79      0.23      0.36        47\n",
      "\n",
      "    accuracy                           0.88       320\n",
      "   macro avg       0.83      0.61      0.65       320\n",
      "weighted avg       0.87      0.88      0.85       320\n",
      "\n",
      "\n",
      "\n",
      "White wine:\n",
      "              precision    recall  f1-score   support\n",
      "\n",
      "           0       0.82      0.97      0.89       753\n",
      "           1       0.72      0.30      0.42       227\n",
      "\n",
      "    accuracy                           0.81       980\n",
      "   macro avg       0.77      0.63      0.65       980\n",
      "weighted avg       0.80      0.81      0.78       980\n",
      "\n"
     ]
    }
   ],
   "source": [
    "print('\\n\\nFull dataset:')\n",
    "print(classification_report(yF_test, pred_svc_Full))\n",
    "\n",
    "print('\\n\\nRed wine:')\n",
    "print(classification_report(yR_test, pred_svc_Red))\n",
    "\n",
    "print('\\n\\nWhite wine:')\n",
    "print(classification_report(yW_test, pred_svc_White))"
   ]
  },
  {
   "cell_type": "code",
   "execution_count": 60,
   "metadata": {},
   "outputs": [
    {
     "name": "stdout",
     "output_type": "stream",
     "text": [
      "\n",
      "\n",
      "Full dataset:\n",
      "[[1025   23]\n",
      " [ 189   63]]\n",
      "\n",
      "\n",
      "Red wine:\n",
      "[[270   3]\n",
      " [ 36  11]]\n",
      "\n",
      "\n",
      "White wine:\n",
      "[[727  26]\n",
      " [160  67]]\n"
     ]
    }
   ],
   "source": [
    "# Confusion matric for stochastic gradient descent\n",
    "print('\\n\\nFull dataset:')\n",
    "print(confusion_matrix(yF_test, pred_svc_Full))\n",
    "\n",
    "print('\\n\\nRed wine:')\n",
    "print(confusion_matrix(yR_test, pred_svc_Red))\n",
    "\n",
    "print('\\n\\nWhite wine:')\n",
    "print(confusion_matrix(yW_test, pred_svc_White))"
   ]
  },
  {
   "cell_type": "markdown",
   "metadata": {},
   "source": [
    "# Let's try to increase our accuracy of models"
   ]
  },
  {
   "cell_type": "markdown",
   "metadata": {},
   "source": [
    "## Finding best parameters for Support Vector Classifier"
   ]
  },
  {
   "cell_type": "code",
   "execution_count": 61,
   "metadata": {},
   "outputs": [],
   "source": [
    "param = {\n",
    "    'C': [0.1,0.8,0.9,1,1.1,1.2,1.3,1.4],\n",
    "    'kernel':['linear', 'rbf'],\n",
    "    'gamma' :[0.1,0.8,0.9,1,1.1,1.2,1.3,1.4]\n",
    "}"
   ]
  },
  {
   "cell_type": "code",
   "execution_count": 62,
   "metadata": {},
   "outputs": [],
   "source": [
    "# Full dataset\n",
    "grid_svc_Full = GridSearchCV(svc_Full, param_grid=param, scoring='accuracy', cv=10)"
   ]
  },
  {
   "cell_type": "code",
   "execution_count": 40,
   "metadata": {},
   "outputs": [],
   "source": [
    "# Red wine\n",
    "grid_svc_Red = GridSearchCV(svc_Red, param_grid=param, scoring='accuracy', cv=10)"
   ]
  },
  {
   "cell_type": "code",
   "execution_count": 41,
   "metadata": {},
   "outputs": [],
   "source": [
    "# white wine\n",
    "grid_svc_White = GridSearchCV(svc_White, param_grid=param, scoring='accuracy', cv=10)"
   ]
  },
  {
   "cell_type": "code",
   "execution_count": 42,
   "metadata": {},
   "outputs": [
    {
     "data": {
      "text/plain": [
       "GridSearchCV(cv=10, estimator=SVC(),\n",
       "             param_grid={'C': [0.1, 0.8, 0.9, 1, 1.1, 1.2, 1.3, 1.4],\n",
       "                         'gamma': [0.1, 0.8, 0.9, 1, 1.1, 1.2, 1.3, 1.4],\n",
       "                         'kernel': ['linear', 'rbf']},\n",
       "             scoring='accuracy')"
      ]
     },
     "execution_count": 42,
     "metadata": {},
     "output_type": "execute_result"
    }
   ],
   "source": [
    "grid_svc_Full.fit(xF_train, yF_train)"
   ]
  },
  {
   "cell_type": "code",
   "execution_count": 43,
   "metadata": {},
   "outputs": [
    {
     "data": {
      "text/plain": [
       "GridSearchCV(cv=10, estimator=SVC(),\n",
       "             param_grid={'C': [0.1, 0.8, 0.9, 1, 1.1, 1.2, 1.3, 1.4],\n",
       "                         'gamma': [0.1, 0.8, 0.9, 1, 1.1, 1.2, 1.3, 1.4],\n",
       "                         'kernel': ['linear', 'rbf']},\n",
       "             scoring='accuracy')"
      ]
     },
     "execution_count": 43,
     "metadata": {},
     "output_type": "execute_result"
    }
   ],
   "source": [
    "grid_svc_Red.fit(xR_train, yR_train)"
   ]
  },
  {
   "cell_type": "code",
   "execution_count": 44,
   "metadata": {},
   "outputs": [
    {
     "data": {
      "text/plain": [
       "GridSearchCV(cv=10, estimator=SVC(),\n",
       "             param_grid={'C': [0.1, 0.8, 0.9, 1, 1.1, 1.2, 1.3, 1.4],\n",
       "                         'gamma': [0.1, 0.8, 0.9, 1, 1.1, 1.2, 1.3, 1.4],\n",
       "                         'kernel': ['linear', 'rbf']},\n",
       "             scoring='accuracy')"
      ]
     },
     "execution_count": 44,
     "metadata": {},
     "output_type": "execute_result"
    }
   ],
   "source": [
    "grid_svc_White.fit(xW_train, yW_train)"
   ]
  },
  {
   "cell_type": "code",
   "execution_count": 45,
   "metadata": {},
   "outputs": [
    {
     "name": "stdout",
     "output_type": "stream",
     "text": [
      "\n",
      "\n",
      "Full dataset\n"
     ]
    },
    {
     "data": {
      "text/plain": [
       "{'C': 1.2, 'gamma': 1.4, 'kernel': 'rbf'}"
      ]
     },
     "execution_count": 45,
     "metadata": {},
     "output_type": "execute_result"
    }
   ],
   "source": [
    "# Best parameters for our svc model\n",
    "print('\\n\\nFull dataset')\n",
    "grid_svc_Full.best_params_"
   ]
  },
  {
   "cell_type": "code",
   "execution_count": 46,
   "metadata": {},
   "outputs": [
    {
     "name": "stdout",
     "output_type": "stream",
     "text": [
      "\n",
      "\n",
      "Red wine\n"
     ]
    },
    {
     "data": {
      "text/plain": [
       "{'C': 1.2, 'gamma': 0.9, 'kernel': 'rbf'}"
      ]
     },
     "execution_count": 46,
     "metadata": {},
     "output_type": "execute_result"
    }
   ],
   "source": [
    "print('\\n\\nRed wine')\n",
    "grid_svc_Red.best_params_"
   ]
  },
  {
   "cell_type": "code",
   "execution_count": 47,
   "metadata": {},
   "outputs": [
    {
     "name": "stdout",
     "output_type": "stream",
     "text": [
      "\n",
      "\n",
      "White wine\n"
     ]
    },
    {
     "data": {
      "text/plain": [
       "{'C': 1.4, 'gamma': 1.1, 'kernel': 'rbf'}"
      ]
     },
     "execution_count": 47,
     "metadata": {},
     "output_type": "execute_result"
    }
   ],
   "source": [
    "print('\\n\\nWhite wine')\n",
    "grid_svc_White.best_params_"
   ]
  },
  {
   "cell_type": "code",
   "execution_count": 48,
   "metadata": {},
   "outputs": [
    {
     "name": "stdout",
     "output_type": "stream",
     "text": [
      "\n",
      "\n",
      "Full dataset\n",
      "              precision    recall  f1-score   support\n",
      "\n",
      "           0       0.89      0.98      0.93      1048\n",
      "           1       0.85      0.48      0.61       252\n",
      "\n",
      "    accuracy                           0.88      1300\n",
      "   macro avg       0.87      0.73      0.77      1300\n",
      "weighted avg       0.88      0.88      0.87      1300\n",
      "\n"
     ]
    }
   ],
   "source": [
    "# Now we run again SVC again with best parameters we've got\n",
    "\n",
    "print('\\n\\nFull dataset')\n",
    "svc2_Full = SVC(C = 1.2, gamma =  1.4, kernel= 'rbf')\n",
    "svc2_Full.fit(xF_train, yF_train)\n",
    "pred_svc2_Full = svc2_Full.predict(xF_test)\n",
    "print(classification_report(yF_test, pred_svc2_Full))"
   ]
  },
  {
   "cell_type": "code",
   "execution_count": 49,
   "metadata": {},
   "outputs": [
    {
     "name": "stdout",
     "output_type": "stream",
     "text": [
      "\n",
      "\n",
      "Red wine\n",
      "              precision    recall  f1-score   support\n",
      "\n",
      "           0       0.90      0.99      0.94       273\n",
      "           1       0.89      0.34      0.49        47\n",
      "\n",
      "    accuracy                           0.90       320\n",
      "   macro avg       0.89      0.67      0.72       320\n",
      "weighted avg       0.90      0.90      0.88       320\n",
      "\n"
     ]
    }
   ],
   "source": [
    "print('\\n\\nRed wine')\n",
    "svc2_Red = SVC(C = 1.2, gamma =  0.9, kernel= 'rbf')\n",
    "svc2_Red.fit(xR_train, yR_train)\n",
    "pred_svc2_Red = svc2_Red.predict(xR_test)\n",
    "print(classification_report(yR_test, pred_svc2_Red))"
   ]
  },
  {
   "cell_type": "code",
   "execution_count": 50,
   "metadata": {},
   "outputs": [
    {
     "name": "stdout",
     "output_type": "stream",
     "text": [
      "\n",
      "\n",
      "White wine\n",
      "              precision    recall  f1-score   support\n",
      "\n",
      "           0       0.88      0.97      0.92       753\n",
      "           1       0.84      0.55      0.66       227\n",
      "\n",
      "    accuracy                           0.87       980\n",
      "   macro avg       0.86      0.76      0.79       980\n",
      "weighted avg       0.87      0.87      0.86       980\n",
      "\n"
     ]
    }
   ],
   "source": [
    "print('\\n\\nWhite wine')\n",
    "svc2_White = SVC(C = 1.4, gamma =  1.1, kernel= 'rbf')\n",
    "svc2_White.fit(xW_train, yW_train)\n",
    "pred_svc2_White = svc2_White.predict(xW_test)\n",
    "print(classification_report(yW_test, pred_svc2_White))"
   ]
  },
  {
   "cell_type": "code",
   "execution_count": 51,
   "metadata": {},
   "outputs": [
    {
     "name": "stdout",
     "output_type": "stream",
     "text": [
      "\n",
      "\n",
      "Full dataset\n",
      "[[1026   22]\n",
      " [ 131  121]]\n",
      "\n",
      "\n",
      "Red wine\n",
      "[[271   2]\n",
      " [ 31  16]]\n",
      "\n",
      "\n",
      "White wine\n",
      "[[730  23]\n",
      " [103 124]]\n"
     ]
    }
   ],
   "source": [
    "print('\\n\\nFull dataset')\n",
    "print(confusion_matrix(yF_test, pred_svc2_Full))\n",
    "\n",
    "print('\\n\\nRed wine')\n",
    "print(confusion_matrix(yR_test, pred_svc2_Red))\n",
    "\n",
    "print('\\n\\nWhite wine')\n",
    "print(confusion_matrix(yW_test, pred_svc2_White))"
   ]
  },
  {
   "cell_type": "markdown",
   "metadata": {},
   "source": [
    "#### SVC improves from 82% (85%, 71%) to 88% (89%, 85%), althought the confusion matrix for 'good' wine is still mixed"
   ]
  },
  {
   "cell_type": "markdown",
   "metadata": {},
   "source": [
    "## Cross Validation Score for random forest and SGD"
   ]
  },
  {
   "cell_type": "code",
   "execution_count": 52,
   "metadata": {},
   "outputs": [
    {
     "name": "stdout",
     "output_type": "stream",
     "text": [
      "\n",
      "\n",
      "Full dataset:\n",
      "0.887049429376019\n",
      "\n",
      "\n",
      "Red wine:\n",
      "0.9132320374015748\n",
      "\n",
      "\n",
      "White wine:\n",
      "0.876462106581763\n"
     ]
    }
   ],
   "source": [
    "# Let's use cross validation to try to improve random forest model\n",
    "\n",
    "print('\\n\\nFull dataset:')\n",
    "rfc_eval_Full = cross_val_score(estimator = rfc_Full, X = xF_train, y = yF_train, cv = 10)\n",
    "print(rfc_eval_Full.mean())\n",
    "\n",
    "print('\\n\\nRed wine:')\n",
    "rfc_eval_Red = cross_val_score(estimator = rfc_Red, X = xR_train, y = yR_train, cv = 10)\n",
    "print(rfc_eval_Red.mean())\n",
    "\n",
    "print('\\n\\nWhite wine:')\n",
    "rfc_eval_White = cross_val_score(estimator = rfc_White, X = xW_train, y = yW_train, cv = 10)\n",
    "print(rfc_eval_White.mean())"
   ]
  },
  {
   "cell_type": "markdown",
   "metadata": {},
   "source": [
    "# Let's check which results we can get dropping some variables"
   ]
  },
  {
   "cell_type": "markdown",
   "metadata": {},
   "source": [
    "#### Drop some variables. We start only with those that don't show variations\n",
    "##### Drop: 'density', and 'pH' "
   ]
  },
  {
   "cell_type": "code",
   "execution_count": 55,
   "metadata": {},
   "outputs": [],
   "source": [
    "# Let's drop those two columns in x. y remains the same\n",
    "xFull_den_pH = dataFull.drop('density', axis = 1)\n",
    "xFull_den_pH = xFull_den_pH.drop('pH', axis = 1)\n",
    "xRed_den_pH = dataRed.drop('density', axis = 1)\n",
    "xRed_den_pH = xRed_den_pH.drop('pH', axis = 1)\n",
    "xWhite_den_pH = dataWhite.drop('density', axis = 1)\n",
    "xWhite_den_pH = xWhite_den_pH.drop('pH', axis = 1)"
   ]
  },
  {
   "cell_type": "code",
   "execution_count": 57,
   "metadata": {},
   "outputs": [],
   "source": [
    "# Splitting data set into Train and Test (20% data for test) \n",
    "xF_den_pH_train, xF_den_pH_test, yF_den_pH_train, yF_den_pH_test = train_test_split(xFull_den_pH,\n",
    "                                                                                    yFull,\n",
    "                                                                                    test_size = 0.2,\n",
    "                                                                                    random_state = 42)\n",
    "xR_den_pH_train, xR_den_pH_test, yR_den_pH_train, yR_den_pH_test = train_test_split(xRed_den_pH,\n",
    "                                                                                    yRed,\n",
    "                                                                                    test_size = 0.2,\n",
    "                                                                                    random_state = 42)\n",
    "xW_den_pH_train, xW_den_pH_test, yW_den_pH_train, yW_den_pH_test = train_test_split(xWhite_den_pH,\n",
    "                                                                                    yWhite,\n",
    "                                                                                    test_size = 0.2,\n",
    "                                                                                    random_state = 42)"
   ]
  },
  {
   "cell_type": "code",
   "execution_count": 58,
   "metadata": {},
   "outputs": [],
   "source": [
    "# Scaling info for better results\n",
    "sc = StandardScaler()"
   ]
  },
  {
   "cell_type": "code",
   "execution_count": 60,
   "metadata": {},
   "outputs": [],
   "source": [
    "xF_den_pH_train = sc.fit_transform(xF_den_pH_train)\n",
    "xF_den_pH_test = sc.fit_transform(xF_den_pH_test)\n",
    "\n",
    "xR_den_pH_train = sc.fit_transform(xR_den_pH_train)\n",
    "xR_den_pH_test = sc.fit_transform(xR_den_pH_test)\n",
    "\n",
    "xW_den_pH_train = sc.fit_transform(xW_den_pH_train)\n",
    "xW_den_pH_test = sc.fit_transform(xW_den_pH_test)"
   ]
  },
  {
   "cell_type": "markdown",
   "metadata": {},
   "source": [
    "# New Random Forest dropping some variables"
   ]
  },
  {
   "cell_type": "code",
   "execution_count": 65,
   "metadata": {},
   "outputs": [],
   "source": [
    "# Full dataset\n",
    "rfc_Full_den_pH = RandomForestClassifier(n_estimators=200)\n",
    "rfc_Full_den_pH.fit(xF_den_pH_train, yF_den_pH_train)\n",
    "pred_rfc_Full_den_pH = rfc_Full_den_pH.predict(xF_den_pH_test)\n",
    "\n",
    "# Red wine dataset\n",
    "rfc_Red_den_pH = RandomForestClassifier(n_estimators=200)\n",
    "rfc_Red_den_pH.fit(xR_den_pH_train, yR_den_pH_train)\n",
    "pred_rfc_Red_den_pH = rfc_Red_den_pH.predict(xR_den_pH_test)\n",
    "\n",
    "# White wine dataset\n",
    "rfc_White_den_pH = RandomForestClassifier(n_estimators=200)\n",
    "rfc_White_den_pH.fit(xW_den_pH_train, yW_den_pH_train)\n",
    "pred_rfc_White_den_pH = rfc_White_den_pH.predict(xW_den_pH_test)"
   ]
  },
  {
   "cell_type": "code",
   "execution_count": 66,
   "metadata": {},
   "outputs": [
    {
     "name": "stdout",
     "output_type": "stream",
     "text": [
      "\n",
      "\n",
      "Full dataset\n",
      "              precision    recall  f1-score   support\n",
      "\n",
      "           0       1.00      1.00      1.00      1048\n",
      "           1       1.00      1.00      1.00       252\n",
      "\n",
      "    accuracy                           1.00      1300\n",
      "   macro avg       1.00      1.00      1.00      1300\n",
      "weighted avg       1.00      1.00      1.00      1300\n",
      "\n",
      "\n",
      "\n",
      "Red wine\n",
      "              precision    recall  f1-score   support\n",
      "\n",
      "           0       1.00      1.00      1.00       273\n",
      "           1       1.00      1.00      1.00        47\n",
      "\n",
      "    accuracy                           1.00       320\n",
      "   macro avg       1.00      1.00      1.00       320\n",
      "weighted avg       1.00      1.00      1.00       320\n",
      "\n",
      "\n",
      "\n",
      "White wine\n",
      "              precision    recall  f1-score   support\n",
      "\n",
      "           0       1.00      1.00      1.00       753\n",
      "           1       1.00      1.00      1.00       227\n",
      "\n",
      "    accuracy                           1.00       980\n",
      "   macro avg       1.00      1.00      1.00       980\n",
      "weighted avg       1.00      1.00      1.00       980\n",
      "\n"
     ]
    }
   ],
   "source": [
    "# Let's check our prediction with real quality\n",
    "\n",
    "print('\\n\\nFull dataset')\n",
    "print(classification_report(yF_den_pH_test, pred_rfc_Full_den_pH))\n",
    "\n",
    "print('\\n\\nRed wine')\n",
    "print(classification_report(yR_den_pH_test, pred_rfc_Red_den_pH))\n",
    "\n",
    "print('\\n\\nWhite wine')\n",
    "print(classification_report(yW_den_pH_test, pred_rfc_White_den_pH))"
   ]
  },
  {
   "cell_type": "code",
   "execution_count": 67,
   "metadata": {},
   "outputs": [
    {
     "name": "stdout",
     "output_type": "stream",
     "text": [
      "\n",
      "\n",
      "Full dataset:\n",
      "[[1048    0]\n",
      " [   0  252]]\n",
      "\n",
      "\n",
      "Red wine:\n",
      "[[273   0]\n",
      " [  0  47]]\n",
      "\n",
      "\n",
      "White wine:\n",
      "[[753   0]\n",
      " [  0 227]]\n"
     ]
    }
   ],
   "source": [
    "#Confusion matrix for the random forest classification\n",
    "print('\\n\\nFull dataset:')\n",
    "print(confusion_matrix(yF_den_pH_test, pred_rfc_Full_den_pH))\n",
    "\n",
    "print('\\n\\nRed wine:')\n",
    "print(confusion_matrix(yR_den_pH_test, pred_rfc_Red_den_pH))\n",
    "\n",
    "print('\\n\\nWhite wine:')\n",
    "print(confusion_matrix(yW_den_pH_test, pred_rfc_White_den_pH))"
   ]
  },
  {
   "cell_type": "code",
   "execution_count": null,
   "metadata": {},
   "outputs": [],
   "source": []
  }
 ],
 "metadata": {
  "kernelspec": {
   "display_name": "Python 3",
   "language": "python",
   "name": "python3"
  },
  "language_info": {
   "codemirror_mode": {
    "name": "ipython",
    "version": 3
   },
   "file_extension": ".py",
   "mimetype": "text/x-python",
   "name": "python",
   "nbconvert_exporter": "python",
   "pygments_lexer": "ipython3",
   "version": "3.8.5"
  }
 },
 "nbformat": 4,
 "nbformat_minor": 2
}
